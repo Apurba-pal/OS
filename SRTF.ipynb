{
 "cells": [
  {
   "cell_type": "code",
   "execution_count": null,
   "metadata": {},
   "outputs": [],
   "source": [
    "n = int(input(\"Enter the number of processes: \"))\n",
    "processes = []\n",
    "for i in range(n):\n",
    "    print(f\"\\nProcess P{i + 1}:\")\n",
    "    arrival_time = int(input(\"Enter Arrival Time: \"))\n",
    "    burst_time = int(input(\"Enter Burst Time: \"))\n",
    "    processes.append((arrival_time, burst_time))\n",
    "processes.sort(key=lambda x: x[0]) \n",
    "completed = 0\n",
    "time = 0\n",
    "min_remaining = float('inf')\n",
    "shortest = None\n",
    "check = False\n",
    "waiting_time = [0] * n\n",
    "turnaround_time = [0] * n\n",
    "remaining_time = [process[1] for process in processes]\n",
    "while completed != n:\n",
    "    for i in range(n):\n",
    "        if (processes[i][0] <= time and remaining_time[i] < min_remaining and remaining_time[i] > 0):\n",
    "            min_remaining = remaining_time[i]\n",
    "            shortest = i\n",
    "            check = True\n",
    "    if not check:\n",
    "        time += 1\n",
    "        continue\n",
    "    remaining_time[shortest] -= 1\n",
    "    min_remaining = remaining_time[shortest]\n",
    "    if min_remaining == 0:\n",
    "        min_remaining = float('inf')\n",
    "    if remaining_time[shortest] == 0:\n",
    "        completed += 1\n",
    "        check = False\n",
    "        finish_time = time + 1\n",
    "        turnaround_time[shortest] = finish_time - processes[shortest][0]\n",
    "        waiting_time[shortest] = turnaround_time[shortest] - processes[shortest][1]\n",
    "        if waiting_time[shortest] < 0:\n",
    "            waiting_time[shortest] = 0\n",
    "    time += 1\n",
    "avg_waiting_time = sum(waiting_time) / n\n",
    "avg_turnaround_time = sum(turnaround_time) / n\n",
    "print(\"\\nProcess\\tBurst Time\\tArrival Time\\tWaiting Time\\tTurnaround Time\")\n",
    "for i in range(n):\n",
    "    print(f\"P{i + 1}\\t\\t{processes[i][1]}\\t\\t{processes[i][0]}\\t\\t{waiting_time[i]}\\t\\t{turnaround_time[i]}\")\n",
    "print(f\"\\nAverage Waiting Time: {avg_waiting_time:.2f}\")\n",
    "print(f\"Average Turnaround Time: {avg_turnaround_time:.2f}\")\n"
   ]
  }
 ],
 "metadata": {
  "kernelspec": {
   "display_name": "Python 3",
   "language": "python",
   "name": "python3"
  },
  "language_info": {
   "name": "python",
   "version": "3.12.8"
  }
 },
 "nbformat": 4,
 "nbformat_minor": 2
}
