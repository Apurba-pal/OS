{
 "cells": [
  {
   "cell_type": "code",
   "execution_count": 3,
   "metadata": {},
   "outputs": [
    {
     "name": "stdout",
     "output_type": "stream",
     "text": [
      "Process\tBurst Time\tWaiting Time\tTurnaround Time\n",
      "1\t5\t\t11\t\t16\n",
      "2\t7\t\t11\t\t18\n",
      "3\t3\t\t8\t\t11\n",
      "4\t4\t\t8\t\t12\n",
      "Average Waiting Time: 9.5\n",
      "Average Turnaround Time: 14.25\n"
     ]
    }
   ],
   "source": [
    "n = int(input('Enter number of processes: '))\n",
    "at = list(map(int, input(f'Enter arrival times for {n} processes: ').split()))\n",
    "bt = list(map(int, input(f'Enter burst times for {n} processes: ').split()))\n",
    "tq = int(input('Enter time quantum: '))\n",
    "\n",
    "remaining_bt = bt.copy()\n",
    "t = 0\n",
    "wt = [0] * n\n",
    "tat = [0] * n\n",
    "\n",
    "while True:\n",
    "    done = True\n",
    "    for i in range(n):\n",
    "        if remaining_bt[i] > 0:\n",
    "            done = False\n",
    "            if remaining_bt[i] > tq:\n",
    "                t += tq\n",
    "                remaining_bt[i] -= tq\n",
    "            else:\n",
    "                t += remaining_bt[i]\n",
    "                wt[i] = t - bt[i] - at[i]\n",
    "                remaining_bt[i] = 0\n",
    "    if done:\n",
    "        break\n",
    "\n",
    "for i in range(n):\n",
    "    tat[i] = bt[i] + wt[i]\n",
    "\n",
    "print('Process\tBurst Time\tWaiting Time\tTurnaround Time')\n",
    "for i in range(n):\n",
    "    print(f'{i+1}\t{bt[i]}\t\t{wt[i]}\t\t{tat[i]}')\n",
    "\n",
    "avg_wt = sum(wt) / n\n",
    "avg_tat = sum(tat) / n\n",
    "print(f'Average Waiting Time: {avg_wt}')\n",
    "print(f'Average Turnaround Time: {avg_tat}')"
   ]
  }
 ],
 "metadata": {
  "kernelspec": {
   "display_name": "Python 3",
   "language": "python",
   "name": "python3"
  },
  "language_info": {
   "codemirror_mode": {
    "name": "ipython",
    "version": 3
   },
   "file_extension": ".py",
   "mimetype": "text/x-python",
   "name": "python",
   "nbconvert_exporter": "python",
   "pygments_lexer": "ipython3",
   "version": "3.12.9"
  }
 },
 "nbformat": 4,
 "nbformat_minor": 2
}
