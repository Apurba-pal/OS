{
 "cells": [
  {
   "cell_type": "code",
   "execution_count": null,
   "metadata": {},
   "outputs": [],
   "source": [
    "n = int(input(\"Enter number of processes: \"))\n",
    "print()\n",
    "at = [int(input(f\"Enter arrival time for P{i + 1}: \")) for i in range(n)]\n",
    "print()\n",
    "bt = [int(input(f\"Enter burst time for P{i + 1}: \")) for i in range(n)]\n",
    "\n",
    "processes = list(range(n))\n",
    "wt = [0] * n\n",
    "tat = [0] * n\n",
    "completion_time = [0] * n\n",
    "\n",
    "remaining_processes = [(i, at[i], bt[i]) for i in range(n)]\n",
    "current_time = min(at)\n",
    "executed_processes = []\n",
    "\n",
    "while remaining_processes:\n",
    "    available = [p for p in remaining_processes if p[1] <= current_time]\n",
    "    \n",
    "    if not available:\n",
    "        current_time = min(p[1] for p in remaining_processes)\n",
    "        continue\n",
    "    \n",
    "    process = min(available, key=lambda x: x[2])\n",
    "    pid = process[0]\n",
    "    \n",
    "    completion_time[pid] = current_time + process[2]\n",
    "    \n",
    "    tat[pid] = completion_time[pid] - at[pid]\n",
    "    wt[pid] = tat[pid] - bt[pid]\n",
    "    \n",
    "    current_time = completion_time[pid]\n",
    "    remaining_processes.remove(process)\n",
    "    executed_processes.append(process)\n",
    "\n",
    "total_wt = sum(wt)\n",
    "total_tat = sum(tat)\n",
    "\n",
    "print(\"\\nProcesses | Arrival | Burst | Waiting | Turnaround\")\n",
    "print(\"-\" * 50)\n",
    "for i in range(n):\n",
    "    print(f\"{i + 1:^9} | {at[i]:^7} | {bt[i]:^5} | {wt[i]:^7} | {tat[i]:^10}\")\n",
    "print(\"-\" * 50)\n",
    "print(f\"\\nAverage waiting time = {total_wt / n:.2f}\")\n",
    "print(f\"Average turnaround time = {total_tat / n:.2f}\")"
   ]
  }
 ],
 "metadata": {
  "kernelspec": {
   "display_name": "Python 3",
   "language": "python",
   "name": "python3"
  },
  "language_info": {
   "name": "python",
   "version": "3.12.9"
  }
 },
 "nbformat": 4,
 "nbformat_minor": 2
}
