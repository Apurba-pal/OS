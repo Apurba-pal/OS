{
 "cells": [
  {
   "cell_type": "code",
   "execution_count": null,
   "metadata": {},
   "outputs": [],
   "source": [
    "n = int(input(\"Enter number of processes: \"))\n",
    "print()\n",
    "at = [int(input(f\"Enter arrival time for P{i + 1}: \")) for i in range(n)]\n",
    "print()\n",
    "bt = [int(input(f\"Enter burst time for P{i + 1}: \")) for i in range(n)]\n",
    "print()\n",
    "priority = [int(input(f\"Enter priority for P{i + 1}: \")) for i in range(n)]\n",
    "\n",
    "processes = list(range(n))\n",
    "wt = [0] * n\n",
    "tat = [0] * n\n",
    "completion_time = [0] * n\n",
    "remaining_bt = bt[:]\n",
    "\n",
    "remaining_processes = [(i, at[i], bt[i], priority[i]) for i in range(n)]\n",
    "current_time = 0\n",
    "executed_processes = []\n",
    "\n",
    "while remaining_processes:\n",
    "    available = [p for p in remaining_processes if p[1] <= current_time]\n",
    "    \n",
    "    if not available:\n",
    "        current_time = min(p[1] for p in remaining_processes)\n",
    "        continue\n",
    "    \n",
    "    process = min(available, key=lambda x: (x[3], x[1]))\n",
    "    pid = process[0]\n",
    "    \n",
    "    remaining_bt[pid] -= 1\n",
    "    current_time += 1\n",
    "    \n",
    "    if remaining_bt[pid] == 0:\n",
    "        completion_time[pid] = current_time\n",
    "        tat[pid] = completion_time[pid] - at[pid]\n",
    "        wt[pid] = tat[pid] - bt[pid]\n",
    "        remaining_processes.remove(process)\n",
    "        executed_processes.append(process)\n",
    "\n",
    "total_wt = sum(wt)\n",
    "total_tat = sum(tat)\n",
    "\n",
    "print(\"\\nProcesses | Arrival | Burst | Priority | Waiting | Turnaround\")\n",
    "print(\"-\" * 60)\n",
    "for i in range(n):\n",
    "    print(f\"{i + 1:^8} | {at[i]:^7} | {bt[i]:^5} | {priority[i]:^8} | {wt[i]:^7} | {tat[i]:^10}\")\n",
    "print(\"-\" * 60)\n",
    "print(f\"\\nAverage waiting time = {total_wt / n:.2f}\")\n",
    "print(f\"Average turnaround time = {total_tat / n:.2f}\")"
   ]
  }
 ],
 "metadata": {
  "kernelspec": {
   "display_name": "Python 3",
   "language": "python",
   "name": "python3"
  },
  "language_info": {
   "name": "python",
   "version": "3.12.8"
  }
 },
 "nbformat": 4,
 "nbformat_minor": 2
}
